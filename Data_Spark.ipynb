{
 "cells": [
  {
   "cell_type": "code",
   "execution_count": 1,
   "id": "4e3cd485-1b1b-441e-b7aa-7f516b6c8da7",
   "metadata": {},
   "outputs": [],
   "source": [
    "import pandas as pd"
   ]
  },
  {
   "cell_type": "code",
   "execution_count": 3,
   "id": "6cead85a-a459-46d0-a16e-4ffa23ff3c62",
   "metadata": {},
   "outputs": [],
   "source": [
    "df = pd.read_csv(\"D:\\Project\\DataSpark\\Customers.csv\", encoding='ISO-8859-1') #file to read using encoding"
   ]
  },
  {
   "cell_type": "code",
   "execution_count": 5,
   "id": "e59378e7-79f3-4977-ad86-333799f25ca5",
   "metadata": {},
   "outputs": [
    {
     "name": "stdout",
     "output_type": "stream",
     "text": [
      "<class 'pandas.core.frame.DataFrame'>\n",
      "RangeIndex: 15266 entries, 0 to 15265\n",
      "Data columns (total 10 columns):\n",
      " #   Column       Non-Null Count  Dtype \n",
      "---  ------       --------------  ----- \n",
      " 0   CustomerKey  15266 non-null  int64 \n",
      " 1   Gender       15266 non-null  object\n",
      " 2   Name         15266 non-null  object\n",
      " 3   City         15266 non-null  object\n",
      " 4   State Code   15256 non-null  object\n",
      " 5   State        15266 non-null  object\n",
      " 6   Zip Code     15266 non-null  object\n",
      " 7   Country      15266 non-null  object\n",
      " 8   Continent    15266 non-null  object\n",
      " 9   Birthday     15266 non-null  object\n",
      "dtypes: int64(1), object(9)\n",
      "memory usage: 1.2+ MB\n"
     ]
    }
   ],
   "source": [
    "df.info()"
   ]
  },
  {
   "cell_type": "code",
   "execution_count": 7,
   "id": "480e7df8-6767-4be8-b5cc-8a68fc9e4b73",
   "metadata": {},
   "outputs": [],
   "source": [
    "date_formats = ['%d-%m-%Y', '%m/%d/%Y','%d/%m%Y','%m-%d-%Y']\n",
    "\n",
    "def parse_dates(date_str):\n",
    "    for fmt in date_formats:\n",
    "        try:\n",
    "            return pd.to_datetime(date_str, format=fmt)\n",
    "        except ValueError:\n",
    "            continue\n",
    "    return pd.NaT\n",
    "\n",
    "# Apply the parsing function to the 'date' column\n",
    "df['Birthday'] = df['Birthday'].apply(parse_dates)\n",
    "\n",
    "# Convert to the desired format\n",
    "df['Birthday'] = df['Birthday'].dt.strftime('%d-%m-%Y')"
   ]
  },
  {
   "cell_type": "code",
   "execution_count": 9,
   "id": "7a87e39b-d586-4c76-aaab-f184de951776",
   "metadata": {},
   "outputs": [],
   "source": [
    "# Replace NA values with 'NAP' in 'state code' column\n",
    "df['State Code'] = df['State Code'].fillna('NAP')"
   ]
  },
  {
   "cell_type": "code",
   "execution_count": 11,
   "id": "822f9acf-b9d0-4f52-8e66-3f9e4e1535fe",
   "metadata": {},
   "outputs": [
    {
     "name": "stdout",
     "output_type": "stream",
     "text": [
      "<class 'pandas.core.frame.DataFrame'>\n",
      "RangeIndex: 15266 entries, 0 to 15265\n",
      "Data columns (total 10 columns):\n",
      " #   Column       Non-Null Count  Dtype \n",
      "---  ------       --------------  ----- \n",
      " 0   CustomerKey  15266 non-null  int64 \n",
      " 1   Gender       15266 non-null  object\n",
      " 2   Name         15266 non-null  object\n",
      " 3   City         15266 non-null  object\n",
      " 4   State Code   15266 non-null  object\n",
      " 5   State        15266 non-null  object\n",
      " 6   Zip Code     15266 non-null  object\n",
      " 7   Country      15266 non-null  object\n",
      " 8   Continent    15266 non-null  object\n",
      " 9   Birthday     15266 non-null  object\n",
      "dtypes: int64(1), object(9)\n",
      "memory usage: 1.2+ MB\n"
     ]
    }
   ],
   "source": [
    "df.info()"
   ]
  },
  {
   "cell_type": "code",
   "execution_count": 13,
   "id": "16042c15-1df9-4c89-9062-5268d7166274",
   "metadata": {},
   "outputs": [],
   "source": [
    "# Save the cleaned dataset to a new CSV file\n",
    "Output_path = \"D:\\Project\\DataSpark\\Cleaned_Customers.csv\"\n",
    "df.to_csv(Output_path, index=False)"
   ]
  },
  {
   "cell_type": "code",
   "execution_count": 15,
   "id": "2590d2e1-8ba7-484c-add3-99692f45f1db",
   "metadata": {},
   "outputs": [],
   "source": [
    "df = pd.read_csv(\"D:\\Project\\DataSpark\\Products.csv\", encoding='ISO-8859-1')"
   ]
  },
  {
   "cell_type": "code",
   "execution_count": 17,
   "id": "b57a6b35-c2a8-413e-9a8e-2ca7735816a9",
   "metadata": {},
   "outputs": [
    {
     "name": "stdout",
     "output_type": "stream",
     "text": [
      "<class 'pandas.core.frame.DataFrame'>\n",
      "RangeIndex: 2517 entries, 0 to 2516\n",
      "Data columns (total 10 columns):\n",
      " #   Column          Non-Null Count  Dtype \n",
      "---  ------          --------------  ----- \n",
      " 0   ProductKey      2517 non-null   int64 \n",
      " 1   Product Name    2517 non-null   object\n",
      " 2   Brand           2517 non-null   object\n",
      " 3   Color           2517 non-null   object\n",
      " 4   Unit Cost USD   2517 non-null   object\n",
      " 5   Unit Price USD  2517 non-null   object\n",
      " 6   SubcategoryKey  2517 non-null   int64 \n",
      " 7   Subcategory     2517 non-null   object\n",
      " 8   CategoryKey     2517 non-null   int64 \n",
      " 9   Category        2517 non-null   object\n",
      "dtypes: int64(3), object(7)\n",
      "memory usage: 196.8+ KB\n"
     ]
    }
   ],
   "source": [
    "df.info()"
   ]
  },
  {
   "cell_type": "code",
   "execution_count": 19,
   "id": "6084af0e-6efd-4532-9560-8a993f4aef08",
   "metadata": {},
   "outputs": [],
   "source": [
    "# Remove dollar sign, commas, and strip any trailing or leading spaces\n",
    "df['Unit Cost USD'] = df['Unit Cost USD'].str.replace('$', '').str.replace(',', '').str.strip()\n",
    "df['Unit Price USD'] = df['Unit Price USD'].str.replace('$', '').str.replace(',', '').str.strip()\n",
    "\n",
    "# Convert the cleaned strings to floats\n",
    "df['Unit Cost USD'] = df['Unit Cost USD'].astype(float)\n",
    "df['Unit Price USD'] = df['Unit Price USD'].astype(float)"
   ]
  },
  {
   "cell_type": "code",
   "execution_count": 21,
   "id": "d9df64fa-659a-4678-800f-a88e2d402b06",
   "metadata": {},
   "outputs": [
    {
     "name": "stdout",
     "output_type": "stream",
     "text": [
      "<class 'pandas.core.frame.DataFrame'>\n",
      "RangeIndex: 2517 entries, 0 to 2516\n",
      "Data columns (total 10 columns):\n",
      " #   Column          Non-Null Count  Dtype  \n",
      "---  ------          --------------  -----  \n",
      " 0   ProductKey      2517 non-null   int64  \n",
      " 1   Product Name    2517 non-null   object \n",
      " 2   Brand           2517 non-null   object \n",
      " 3   Color           2517 non-null   object \n",
      " 4   Unit Cost USD   2517 non-null   float64\n",
      " 5   Unit Price USD  2517 non-null   float64\n",
      " 6   SubcategoryKey  2517 non-null   int64  \n",
      " 7   Subcategory     2517 non-null   object \n",
      " 8   CategoryKey     2517 non-null   int64  \n",
      " 9   Category        2517 non-null   object \n",
      "dtypes: float64(2), int64(3), object(5)\n",
      "memory usage: 196.8+ KB\n"
     ]
    }
   ],
   "source": [
    "df.info()"
   ]
  },
  {
   "cell_type": "code",
   "execution_count": 23,
   "id": "336d33e1-38b9-417c-b86a-a8358f1c5207",
   "metadata": {},
   "outputs": [],
   "source": [
    "# Save the cleaned dataset to a new CSV file\n",
    "Output_path = \"D:\\Project\\DataSpark\\Cleaned_Products.csv\"\n",
    "df.to_csv(Output_path, index=False)"
   ]
  },
  {
   "cell_type": "code",
   "execution_count": 25,
   "id": "1e97a4d9-06d6-483e-9c64-211011d52bdd",
   "metadata": {},
   "outputs": [],
   "source": [
    "df = pd.read_csv(\"D:\\Project\\DataSpark\\Sales.csv\", encoding='ISO-8859-1')"
   ]
  },
  {
   "cell_type": "code",
   "execution_count": 27,
   "id": "c98ce7e0-5377-4bc8-b095-1941c3a618e4",
   "metadata": {},
   "outputs": [
    {
     "name": "stdout",
     "output_type": "stream",
     "text": [
      "<class 'pandas.core.frame.DataFrame'>\n",
      "RangeIndex: 62884 entries, 0 to 62883\n",
      "Data columns (total 9 columns):\n",
      " #   Column         Non-Null Count  Dtype \n",
      "---  ------         --------------  ----- \n",
      " 0   Order Number   62884 non-null  int64 \n",
      " 1   Line Item      62884 non-null  int64 \n",
      " 2   Order Date     62884 non-null  object\n",
      " 3   Delivery Date  13165 non-null  object\n",
      " 4   CustomerKey    62884 non-null  int64 \n",
      " 5   StoreKey       62884 non-null  int64 \n",
      " 6   ProductKey     62884 non-null  int64 \n",
      " 7   Quantity       62884 non-null  int64 \n",
      " 8   Currency Code  62884 non-null  object\n",
      "dtypes: int64(6), object(3)\n",
      "memory usage: 4.3+ MB\n"
     ]
    }
   ],
   "source": [
    "df.info()"
   ]
  },
  {
   "cell_type": "code",
   "execution_count": 29,
   "id": "41bc78b6-51f6-45be-8ddd-73b6a5846e16",
   "metadata": {},
   "outputs": [],
   "source": [
    "date_formats = ['%d-%m-%Y', '%m/%d/%Y',]\n",
    "\n",
    "def parse_dates(date_str):\n",
    "    for fmt in date_formats:\n",
    "        try:\n",
    "            return pd.to_datetime(date_str, format=fmt)\n",
    "        except ValueError:\n",
    "            continue\n",
    "    return pd.NaT\n",
    "\n",
    "# Apply the parsing function to the 'date' column\n",
    "df['Order Date'] = df['Order Date'].apply(parse_dates)\n",
    "df['Delivery Date'] = df['Delivery Date'].apply(parse_dates)\n",
    "\n",
    "# Convert to the desired format\n",
    "df['Order Date'] = df['Order Date'].dt.strftime('%d-%m-%Y')\n",
    "df['Delivery Date'] = df['Delivery Date'].dt.strftime('%d-%m-%Y')"
   ]
  },
  {
   "cell_type": "code",
   "execution_count": 31,
   "id": "9460a337-a569-4b53-a2bf-eb4ceefa0587",
   "metadata": {},
   "outputs": [
    {
     "name": "stdout",
     "output_type": "stream",
     "text": [
      "<class 'pandas.core.frame.DataFrame'>\n",
      "RangeIndex: 62884 entries, 0 to 62883\n",
      "Data columns (total 9 columns):\n",
      " #   Column         Non-Null Count  Dtype \n",
      "---  ------         --------------  ----- \n",
      " 0   Order Number   62884 non-null  int64 \n",
      " 1   Line Item      62884 non-null  int64 \n",
      " 2   Order Date     62884 non-null  object\n",
      " 3   Delivery Date  13165 non-null  object\n",
      " 4   CustomerKey    62884 non-null  int64 \n",
      " 5   StoreKey       62884 non-null  int64 \n",
      " 6   ProductKey     62884 non-null  int64 \n",
      " 7   Quantity       62884 non-null  int64 \n",
      " 8   Currency Code  62884 non-null  object\n",
      "dtypes: int64(6), object(3)\n",
      "memory usage: 4.3+ MB\n"
     ]
    }
   ],
   "source": [
    "df.info()"
   ]
  },
  {
   "cell_type": "code",
   "execution_count": 33,
   "id": "f8f9c7eb-e677-4642-b832-f5a438d8f45d",
   "metadata": {},
   "outputs": [
    {
     "data": {
      "text/plain": [
       "Order Number     0\n",
       "Line Item        0\n",
       "Order Date       0\n",
       "Delivery Date    0\n",
       "CustomerKey      0\n",
       "StoreKey         0\n",
       "ProductKey       0\n",
       "Quantity         0\n",
       "Currency Code    0\n",
       "dtype: int64"
      ]
     },
     "execution_count": 33,
     "metadata": {},
     "output_type": "execute_result"
    }
   ],
   "source": [
    "df.dropna(subset=['Delivery Date'], inplace=True)\n",
    "df.isnull().sum()"
   ]
  },
  {
   "cell_type": "code",
   "execution_count": 35,
   "id": "76517300-1f8b-469e-9c5b-f026b70afcff",
   "metadata": {},
   "outputs": [
    {
     "data": {
      "text/plain": [
       "(13165, 9)"
      ]
     },
     "execution_count": 35,
     "metadata": {},
     "output_type": "execute_result"
    }
   ],
   "source": [
    "df.shape"
   ]
  },
  {
   "cell_type": "code",
   "execution_count": 37,
   "id": "50ea086f-b46b-4c4d-b4e5-5f6063e1711e",
   "metadata": {},
   "outputs": [],
   "source": [
    "pd.set_option(\"display.max_rows\", None)"
   ]
  },
  {
   "cell_type": "code",
   "execution_count": 41,
   "id": "a99d48a2-7b90-4976-94b5-52adc4cd79f6",
   "metadata": {},
   "outputs": [],
   "source": [
    "# Convert the dates to datetime format\n",
    "df['Order Date'] = pd.to_datetime(df['Order Date'], format='%d-%m-%Y')\n",
    "df['Delivery Date'] = pd.to_datetime(df['Delivery Date'], format='%d-%m-%Y')"
   ]
  },
  {
   "cell_type": "code",
   "execution_count": 43,
   "id": "1c7be33c-5d47-449d-a2d4-7075840c6f34",
   "metadata": {},
   "outputs": [],
   "source": [
    "# Filter out rows where Delivery_Date is earlier than Order_Date\n",
    "df = df[df['Delivery Date'] >= df['Order Date']]"
   ]
  },
  {
   "cell_type": "code",
   "execution_count": 45,
   "id": "32c74737-26fa-4b5f-8a74-7463cd1f4422",
   "metadata": {},
   "outputs": [
    {
     "data": {
      "text/plain": [
       "(13165, 9)"
      ]
     },
     "execution_count": 45,
     "metadata": {},
     "output_type": "execute_result"
    }
   ],
   "source": [
    "df.shape"
   ]
  },
  {
   "cell_type": "code",
   "execution_count": 47,
   "id": "64b13aab-0f15-4bca-83a5-31c03d0852a3",
   "metadata": {},
   "outputs": [],
   "source": [
    "# Save the cleaned dataset to a new CSV file\n",
    "Output_path = \"D:\\Project\\DataSpark\\Cleaned_Sales.csv\"\n",
    "df.to_csv(Output_path, index=False)"
   ]
  },
  {
   "cell_type": "code",
   "execution_count": 49,
   "id": "a3b1c519-192d-4b84-905e-c8b232316a68",
   "metadata": {},
   "outputs": [],
   "source": [
    "df = pd.read_csv(\"D:\\Project\\DataSpark\\Stores.csv\", encoding='ISO-8859-1')"
   ]
  },
  {
   "cell_type": "code",
   "execution_count": 51,
   "id": "e02f6898-1e58-4ddd-8ce3-e1e8047d14b7",
   "metadata": {},
   "outputs": [
    {
     "name": "stdout",
     "output_type": "stream",
     "text": [
      "<class 'pandas.core.frame.DataFrame'>\n",
      "RangeIndex: 67 entries, 0 to 66\n",
      "Data columns (total 5 columns):\n",
      " #   Column         Non-Null Count  Dtype  \n",
      "---  ------         --------------  -----  \n",
      " 0   StoreKey       67 non-null     int64  \n",
      " 1   Country        67 non-null     object \n",
      " 2   State          67 non-null     object \n",
      " 3   Square Meters  66 non-null     float64\n",
      " 4   Open Date      67 non-null     object \n",
      "dtypes: float64(1), int64(1), object(3)\n",
      "memory usage: 2.7+ KB\n"
     ]
    }
   ],
   "source": [
    "df.info()"
   ]
  },
  {
   "cell_type": "code",
   "execution_count": 53,
   "id": "03effa64-20fa-45d7-a5a4-df585e961b65",
   "metadata": {},
   "outputs": [],
   "source": [
    "date_formats = ['%d-%m-%Y', '%m/%d/%Y'] #date format available in my file\n",
    "\n",
    "def parse_dates(date_str): \n",
    "    for fmt in date_formats:\n",
    "        try:\n",
    "            return pd.to_datetime(date_str, format=fmt) \n",
    "        except ValueError:\n",
    "            continue\n",
    "    return pd.NaT #print not a time\n",
    "\n",
    "# Apply the parsing function to the 'date' column\n",
    "df['Open Date'] = df['Open Date'].apply(parse_dates)\n",
    "\n",
    "# Convert to the desired format\n",
    "df['Open Date'] = df['Open Date'].dt.strftime('%d-%m-%Y')"
   ]
  },
  {
   "cell_type": "code",
   "execution_count": 55,
   "id": "3f2cfe8f-b490-4316-9e4a-2edce0cd15df",
   "metadata": {},
   "outputs": [],
   "source": [
    "# Fill missing values in 'Square Meters' with 0\n",
    "df['Square Meters'].fillna(0, inplace=True)"
   ]
  },
  {
   "cell_type": "code",
   "execution_count": 57,
   "id": "b3a4f4e8-3165-4c63-ae5a-82067b2d6a72",
   "metadata": {},
   "outputs": [
    {
     "name": "stdout",
     "output_type": "stream",
     "text": [
      "<class 'pandas.core.frame.DataFrame'>\n",
      "RangeIndex: 67 entries, 0 to 66\n",
      "Data columns (total 5 columns):\n",
      " #   Column         Non-Null Count  Dtype  \n",
      "---  ------         --------------  -----  \n",
      " 0   StoreKey       67 non-null     int64  \n",
      " 1   Country        67 non-null     object \n",
      " 2   State          67 non-null     object \n",
      " 3   Square Meters  67 non-null     float64\n",
      " 4   Open Date      67 non-null     object \n",
      "dtypes: float64(1), int64(1), object(3)\n",
      "memory usage: 2.7+ KB\n"
     ]
    }
   ],
   "source": [
    "df.info()"
   ]
  },
  {
   "cell_type": "code",
   "execution_count": 59,
   "id": "3f29fbec-c3cc-41e7-837f-ab308231a8b5",
   "metadata": {},
   "outputs": [],
   "source": [
    "# Save the cleaned dataset to a new CSV file\n",
    "Output_path = \"D:\\Project\\DataSpark\\Cleaned_Stores.csv\"\n",
    "df.to_csv(Output_path, index=False)"
   ]
  },
  {
   "cell_type": "code",
   "execution_count": 61,
   "id": "567e116c-85e2-40ba-a595-cc7bda409086",
   "metadata": {},
   "outputs": [],
   "source": [
    "# Read the CSV file with the specified encoding\n",
    "df = pd.read_csv(\"D:\\Project\\DataSpark\\Exchange_Rates.csv\", encoding='ISO-8859-1')"
   ]
  },
  {
   "cell_type": "code",
   "execution_count": 63,
   "id": "e3967e08-4a78-4c47-8bf2-a1acc4d74284",
   "metadata": {},
   "outputs": [
    {
     "name": "stdout",
     "output_type": "stream",
     "text": [
      "<class 'pandas.core.frame.DataFrame'>\n",
      "RangeIndex: 11215 entries, 0 to 11214\n",
      "Data columns (total 3 columns):\n",
      " #   Column    Non-Null Count  Dtype  \n",
      "---  ------    --------------  -----  \n",
      " 0   Date      11215 non-null  object \n",
      " 1   Currency  11215 non-null  object \n",
      " 2   Exchange  11215 non-null  float64\n",
      "dtypes: float64(1), object(2)\n",
      "memory usage: 263.0+ KB\n"
     ]
    }
   ],
   "source": [
    "df.info()"
   ]
  },
  {
   "cell_type": "code",
   "execution_count": 65,
   "id": "f15c244e-13a1-483f-97a7-96e0df56e2ce",
   "metadata": {},
   "outputs": [],
   "source": [
    "date_formats = ['%d-%m-%Y', '%m/%d/%Y'] #date format available in my file\n",
    "\n",
    "def parse_dates(date_str): \n",
    "    for fmt in date_formats:\n",
    "        try:\n",
    "            return pd.to_datetime(date_str, format=fmt) \n",
    "        except ValueError:\n",
    "            continue\n",
    "    return pd.NaT #print not a time\n",
    "\n",
    "# Apply the parsing function to the 'date' column\n",
    "df['Date'] = df['Date'].apply(parse_dates)\n",
    "\n",
    "# Convert to the desired format\n",
    "df['Date'] = df['Date'].dt.strftime('%d-%m-%Y')"
   ]
  },
  {
   "cell_type": "code",
   "execution_count": 67,
   "id": "e8b0d31c-d6d5-4efd-8dc8-133c81fe12f1",
   "metadata": {},
   "outputs": [],
   "source": [
    "# Save the cleaned dataset to a new CSV file\n",
    "Output_path = \"D:\\Project\\DataSpark\\Cleaned_Exchange_Rates.csv\"\n",
    "df.to_csv(Output_path, index=False)"
   ]
  },
  {
   "cell_type": "code",
   "execution_count": 68,
   "id": "0c6cd5df-f71a-4eea-bb54-e57d41e6fef7",
   "metadata": {},
   "outputs": [],
   "source": [
    "import pandas as pd"
   ]
  },
  {
   "cell_type": "code",
   "execution_count": 5,
   "id": "0d6d4a6c-04ec-4195-997d-388c713fc6b1",
   "metadata": {},
   "outputs": [],
   "source": [
    "df = pd.read_csv(\"D:\\Project\\DataSpark\\Cleaned_Customers.csv\")"
   ]
  },
  {
   "cell_type": "code",
   "execution_count": 7,
   "id": "19918d27-513f-43fa-acc2-1a52b3196afc",
   "metadata": {},
   "outputs": [
    {
     "name": "stdout",
     "output_type": "stream",
     "text": [
      "<class 'pandas.core.frame.DataFrame'>\n",
      "RangeIndex: 15266 entries, 0 to 15265\n",
      "Data columns (total 10 columns):\n",
      " #   Column       Non-Null Count  Dtype \n",
      "---  ------       --------------  ----- \n",
      " 0   CustomerKey  15266 non-null  int64 \n",
      " 1   Gender       15266 non-null  object\n",
      " 2   Name         15266 non-null  object\n",
      " 3   City         15266 non-null  object\n",
      " 4   State Code   15266 non-null  object\n",
      " 5   State        15266 non-null  object\n",
      " 6   Zip Code     15266 non-null  object\n",
      " 7   Country      15266 non-null  object\n",
      " 8   Continent    15266 non-null  object\n",
      " 9   Birthday     15266 non-null  object\n",
      "dtypes: int64(1), object(9)\n",
      "memory usage: 1.2+ MB\n"
     ]
    }
   ],
   "source": [
    "df.info()"
   ]
  },
  {
   "cell_type": "code",
   "execution_count": 9,
   "id": "8dbd8a22-c0a3-480b-a8fc-8f0ad7bcef0c",
   "metadata": {},
   "outputs": [],
   "source": [
    "df1 = pd.read_csv(\"D:\\Project\\DataSpark\\Cleaned_Products.csv\")"
   ]
  },
  {
   "cell_type": "code",
   "execution_count": 11,
   "id": "2ca56f27-76a7-4706-aa9d-dcec2ea58cd3",
   "metadata": {},
   "outputs": [
    {
     "name": "stdout",
     "output_type": "stream",
     "text": [
      "<class 'pandas.core.frame.DataFrame'>\n",
      "RangeIndex: 2517 entries, 0 to 2516\n",
      "Data columns (total 10 columns):\n",
      " #   Column          Non-Null Count  Dtype  \n",
      "---  ------          --------------  -----  \n",
      " 0   ProductKey      2517 non-null   int64  \n",
      " 1   Product Name    2517 non-null   object \n",
      " 2   Brand           2517 non-null   object \n",
      " 3   Color           2517 non-null   object \n",
      " 4   Unit Cost USD   2517 non-null   float64\n",
      " 5   Unit Price USD  2517 non-null   float64\n",
      " 6   SubcategoryKey  2517 non-null   int64  \n",
      " 7   Subcategory     2517 non-null   object \n",
      " 8   CategoryKey     2517 non-null   int64  \n",
      " 9   Category        2517 non-null   object \n",
      "dtypes: float64(2), int64(3), object(5)\n",
      "memory usage: 196.8+ KB\n"
     ]
    }
   ],
   "source": [
    "df1.info()"
   ]
  },
  {
   "cell_type": "code",
   "execution_count": 13,
   "id": "a5a3ad8a-4b5b-4cab-8643-a821d4c5b127",
   "metadata": {},
   "outputs": [],
   "source": [
    "df2 = pd.read_csv(\"D:\\Project\\DataSpark\\Cleaned_Sales.csv\")"
   ]
  },
  {
   "cell_type": "code",
   "execution_count": 15,
   "id": "2d3cfaa0-953a-44a7-aca7-623f23f2ccf5",
   "metadata": {},
   "outputs": [
    {
     "name": "stdout",
     "output_type": "stream",
     "text": [
      "<class 'pandas.core.frame.DataFrame'>\n",
      "RangeIndex: 13165 entries, 0 to 13164\n",
      "Data columns (total 9 columns):\n",
      " #   Column         Non-Null Count  Dtype \n",
      "---  ------         --------------  ----- \n",
      " 0   Order Number   13165 non-null  int64 \n",
      " 1   Line Item      13165 non-null  int64 \n",
      " 2   Order Date     13165 non-null  object\n",
      " 3   Delivery Date  13165 non-null  object\n",
      " 4   CustomerKey    13165 non-null  int64 \n",
      " 5   StoreKey       13165 non-null  int64 \n",
      " 6   ProductKey     13165 non-null  int64 \n",
      " 7   Quantity       13165 non-null  int64 \n",
      " 8   Currency Code  13165 non-null  object\n",
      "dtypes: int64(6), object(3)\n",
      "memory usage: 925.8+ KB\n"
     ]
    }
   ],
   "source": [
    "df2.info()"
   ]
  },
  {
   "cell_type": "code",
   "execution_count": 17,
   "id": "7b1219b6-93ae-4276-94cb-2a7799649c7b",
   "metadata": {},
   "outputs": [],
   "source": [
    "df3 = pd.read_csv(\"D:\\Project\\DataSpark\\Cleaned_Stores.csv\")"
   ]
  },
  {
   "cell_type": "code",
   "execution_count": 19,
   "id": "c2b730b7-aef5-43bc-84af-35a1f993f30b",
   "metadata": {},
   "outputs": [
    {
     "name": "stdout",
     "output_type": "stream",
     "text": [
      "<class 'pandas.core.frame.DataFrame'>\n",
      "RangeIndex: 67 entries, 0 to 66\n",
      "Data columns (total 5 columns):\n",
      " #   Column         Non-Null Count  Dtype  \n",
      "---  ------         --------------  -----  \n",
      " 0   StoreKey       67 non-null     int64  \n",
      " 1   Country        67 non-null     object \n",
      " 2   State          67 non-null     object \n",
      " 3   Square Meters  67 non-null     float64\n",
      " 4   Open Date      67 non-null     object \n",
      "dtypes: float64(1), int64(1), object(3)\n",
      "memory usage: 2.7+ KB\n"
     ]
    }
   ],
   "source": [
    "df3.info()"
   ]
  },
  {
   "cell_type": "code",
   "execution_count": 21,
   "id": "1ceb2eca-5a00-4fed-80ef-6cee62ee43a7",
   "metadata": {},
   "outputs": [],
   "source": [
    "df4 = pd.read_csv(\"D:\\Project\\DataSpark\\Cleaned_Exchange_Rates.csv\")"
   ]
  },
  {
   "cell_type": "code",
   "execution_count": 23,
   "id": "219618aa-0973-444d-bec2-e88dfe003cdf",
   "metadata": {},
   "outputs": [
    {
     "name": "stdout",
     "output_type": "stream",
     "text": [
      "<class 'pandas.core.frame.DataFrame'>\n",
      "RangeIndex: 11215 entries, 0 to 11214\n",
      "Data columns (total 3 columns):\n",
      " #   Column    Non-Null Count  Dtype  \n",
      "---  ------    --------------  -----  \n",
      " 0   Date      11215 non-null  object \n",
      " 1   Currency  11215 non-null  object \n",
      " 2   Exchange  11215 non-null  float64\n",
      "dtypes: float64(1), object(2)\n",
      "memory usage: 263.0+ KB\n"
     ]
    }
   ],
   "source": [
    "df4.info()"
   ]
  },
  {
   "cell_type": "code",
   "execution_count": 41,
   "id": "0bf5c063-7827-41d5-85b1-481caf5a7bfd",
   "metadata": {},
   "outputs": [
    {
     "name": "stdout",
     "output_type": "stream",
     "text": [
      "Order Date dtype in df2: object\n",
      "Date dtype in df4: object\n"
     ]
    }
   ],
   "source": [
    "print(\"Order Date dtype in df2:\", df2['Order Date'].dtype)\n",
    "print(\"Date dtype in df4:\", df4['Date'].dtype)"
   ]
  },
  {
   "cell_type": "code",
   "execution_count": 43,
   "id": "145270d0-4558-4dc6-8265-6598fb5971f1",
   "metadata": {},
   "outputs": [],
   "source": [
    "df2['Order Date'] = pd.to_datetime(df2['Order Date'], errors='coerce')  # Convert to datetime\n",
    "df4['Date'] = pd.to_datetime(df4['Date'], errors='coerce')  # Convert to datetime"
   ]
  },
  {
   "cell_type": "code",
   "execution_count": 45,
   "id": "de3d92a1-b11e-4554-9403-5f2a0e558fb1",
   "metadata": {},
   "outputs": [
    {
     "name": "stdout",
     "output_type": "stream",
     "text": [
      "After merging df and df2: (13165, 18)\n",
      "After merging with df1: (13165, 27)\n",
      "After merging with df3: (13165, 31)\n",
      "After merging with df4: (25370, 34)\n"
     ]
    }
   ],
   "source": [
    "# Merge df and df2\n",
    "merged_df = pd.merge(df, df2, on='CustomerKey', how='inner')\n",
    "print(\"After merging df and df2:\", merged_df.shape)\n",
    "\n",
    "# Merge with df1\n",
    "if not merged_df.empty:\n",
    "    merged_df = pd.merge(merged_df, df1, on='ProductKey', how='inner')\n",
    "    print(\"After merging with df1:\", merged_df.shape)\n",
    "\n",
    "# Merge with df3\n",
    "if not merged_df.empty:\n",
    "    merged_df = pd.merge(merged_df, df3, on='StoreKey', how='inner')\n",
    "    print(\"After merging with df3:\", merged_df.shape)\n",
    "\n",
    "# Merge with df4\n",
    "if not merged_df.empty:\n",
    "    merged_df = pd.merge(merged_df, df4, left_on='Order Date', right_on='Date', how='inner')\n",
    "    print(\"After merging with df4:\", merged_df.shape)"
   ]
  },
  {
   "cell_type": "code",
   "execution_count": 47,
   "id": "dad27df6-3df6-4112-a317-a2f17575d22e",
   "metadata": {},
   "outputs": [
    {
     "data": {
      "text/html": [
       "<div>\n",
       "<style scoped>\n",
       "    .dataframe tbody tr th:only-of-type {\n",
       "        vertical-align: middle;\n",
       "    }\n",
       "\n",
       "    .dataframe tbody tr th {\n",
       "        vertical-align: top;\n",
       "    }\n",
       "\n",
       "    .dataframe thead th {\n",
       "        text-align: right;\n",
       "    }\n",
       "</style>\n",
       "<table border=\"1\" class=\"dataframe\">\n",
       "  <thead>\n",
       "    <tr style=\"text-align: right;\">\n",
       "      <th></th>\n",
       "      <th>CustomerKey</th>\n",
       "      <th>Gender</th>\n",
       "      <th>Name</th>\n",
       "      <th>City</th>\n",
       "      <th>State Code</th>\n",
       "      <th>State_x</th>\n",
       "      <th>Zip Code</th>\n",
       "      <th>Country_x</th>\n",
       "      <th>Continent</th>\n",
       "      <th>Birthday</th>\n",
       "      <th>...</th>\n",
       "      <th>Subcategory</th>\n",
       "      <th>CategoryKey</th>\n",
       "      <th>Category</th>\n",
       "      <th>Country_y</th>\n",
       "      <th>State_y</th>\n",
       "      <th>Square Meters</th>\n",
       "      <th>Open Date</th>\n",
       "      <th>Date</th>\n",
       "      <th>Currency</th>\n",
       "      <th>Exchange</th>\n",
       "    </tr>\n",
       "  </thead>\n",
       "  <tbody>\n",
       "    <tr>\n",
       "      <th>0</th>\n",
       "      <td>301</td>\n",
       "      <td>Female</td>\n",
       "      <td>Lilly Harding</td>\n",
       "      <td>WANDEARAH EAST</td>\n",
       "      <td>SA</td>\n",
       "      <td>South Australia</td>\n",
       "      <td>5523</td>\n",
       "      <td>Australia</td>\n",
       "      <td>Australia</td>\n",
       "      <td>03-07-1939</td>\n",
       "      <td>...</td>\n",
       "      <td>Recording Pen</td>\n",
       "      <td>1</td>\n",
       "      <td>Audio</td>\n",
       "      <td>Online</td>\n",
       "      <td>Online</td>\n",
       "      <td>0.0</td>\n",
       "      <td>01-01-2010</td>\n",
       "      <td>2019-11-11</td>\n",
       "      <td>USD</td>\n",
       "      <td>1.0000</td>\n",
       "    </tr>\n",
       "    <tr>\n",
       "      <th>1</th>\n",
       "      <td>301</td>\n",
       "      <td>Female</td>\n",
       "      <td>Lilly Harding</td>\n",
       "      <td>WANDEARAH EAST</td>\n",
       "      <td>SA</td>\n",
       "      <td>South Australia</td>\n",
       "      <td>5523</td>\n",
       "      <td>Australia</td>\n",
       "      <td>Australia</td>\n",
       "      <td>03-07-1939</td>\n",
       "      <td>...</td>\n",
       "      <td>Recording Pen</td>\n",
       "      <td>1</td>\n",
       "      <td>Audio</td>\n",
       "      <td>Online</td>\n",
       "      <td>Online</td>\n",
       "      <td>0.0</td>\n",
       "      <td>01-01-2010</td>\n",
       "      <td>2019-11-11</td>\n",
       "      <td>CAD</td>\n",
       "      <td>1.3230</td>\n",
       "    </tr>\n",
       "    <tr>\n",
       "      <th>2</th>\n",
       "      <td>301</td>\n",
       "      <td>Female</td>\n",
       "      <td>Lilly Harding</td>\n",
       "      <td>WANDEARAH EAST</td>\n",
       "      <td>SA</td>\n",
       "      <td>South Australia</td>\n",
       "      <td>5523</td>\n",
       "      <td>Australia</td>\n",
       "      <td>Australia</td>\n",
       "      <td>03-07-1939</td>\n",
       "      <td>...</td>\n",
       "      <td>Recording Pen</td>\n",
       "      <td>1</td>\n",
       "      <td>Audio</td>\n",
       "      <td>Online</td>\n",
       "      <td>Online</td>\n",
       "      <td>0.0</td>\n",
       "      <td>01-01-2010</td>\n",
       "      <td>2019-11-11</td>\n",
       "      <td>AUD</td>\n",
       "      <td>1.4587</td>\n",
       "    </tr>\n",
       "    <tr>\n",
       "      <th>3</th>\n",
       "      <td>301</td>\n",
       "      <td>Female</td>\n",
       "      <td>Lilly Harding</td>\n",
       "      <td>WANDEARAH EAST</td>\n",
       "      <td>SA</td>\n",
       "      <td>South Australia</td>\n",
       "      <td>5523</td>\n",
       "      <td>Australia</td>\n",
       "      <td>Australia</td>\n",
       "      <td>03-07-1939</td>\n",
       "      <td>...</td>\n",
       "      <td>Recording Pen</td>\n",
       "      <td>1</td>\n",
       "      <td>Audio</td>\n",
       "      <td>Online</td>\n",
       "      <td>Online</td>\n",
       "      <td>0.0</td>\n",
       "      <td>01-01-2010</td>\n",
       "      <td>2019-11-11</td>\n",
       "      <td>EUR</td>\n",
       "      <td>0.9057</td>\n",
       "    </tr>\n",
       "    <tr>\n",
       "      <th>4</th>\n",
       "      <td>301</td>\n",
       "      <td>Female</td>\n",
       "      <td>Lilly Harding</td>\n",
       "      <td>WANDEARAH EAST</td>\n",
       "      <td>SA</td>\n",
       "      <td>South Australia</td>\n",
       "      <td>5523</td>\n",
       "      <td>Australia</td>\n",
       "      <td>Australia</td>\n",
       "      <td>03-07-1939</td>\n",
       "      <td>...</td>\n",
       "      <td>Recording Pen</td>\n",
       "      <td>1</td>\n",
       "      <td>Audio</td>\n",
       "      <td>Online</td>\n",
       "      <td>Online</td>\n",
       "      <td>0.0</td>\n",
       "      <td>01-01-2010</td>\n",
       "      <td>2019-11-11</td>\n",
       "      <td>GBP</td>\n",
       "      <td>0.7766</td>\n",
       "    </tr>\n",
       "  </tbody>\n",
       "</table>\n",
       "<p>5 rows × 34 columns</p>\n",
       "</div>"
      ],
      "text/plain": [
       "  CustomerKey  Gender           Name            City State Code  \\\n",
       "0         301  Female  Lilly Harding  WANDEARAH EAST         SA   \n",
       "1         301  Female  Lilly Harding  WANDEARAH EAST         SA   \n",
       "2         301  Female  Lilly Harding  WANDEARAH EAST         SA   \n",
       "3         301  Female  Lilly Harding  WANDEARAH EAST         SA   \n",
       "4         301  Female  Lilly Harding  WANDEARAH EAST         SA   \n",
       "\n",
       "           State_x Zip Code  Country_x  Continent    Birthday  ...  \\\n",
       "0  South Australia     5523  Australia  Australia  03-07-1939  ...   \n",
       "1  South Australia     5523  Australia  Australia  03-07-1939  ...   \n",
       "2  South Australia     5523  Australia  Australia  03-07-1939  ...   \n",
       "3  South Australia     5523  Australia  Australia  03-07-1939  ...   \n",
       "4  South Australia     5523  Australia  Australia  03-07-1939  ...   \n",
       "\n",
       "     Subcategory  CategoryKey Category Country_y State_y Square Meters  \\\n",
       "0  Recording Pen            1    Audio    Online  Online           0.0   \n",
       "1  Recording Pen            1    Audio    Online  Online           0.0   \n",
       "2  Recording Pen            1    Audio    Online  Online           0.0   \n",
       "3  Recording Pen            1    Audio    Online  Online           0.0   \n",
       "4  Recording Pen            1    Audio    Online  Online           0.0   \n",
       "\n",
       "    Open Date       Date Currency Exchange  \n",
       "0  01-01-2010 2019-11-11      USD   1.0000  \n",
       "1  01-01-2010 2019-11-11      CAD   1.3230  \n",
       "2  01-01-2010 2019-11-11      AUD   1.4587  \n",
       "3  01-01-2010 2019-11-11      EUR   0.9057  \n",
       "4  01-01-2010 2019-11-11      GBP   0.7766  \n",
       "\n",
       "[5 rows x 34 columns]"
      ]
     },
     "execution_count": 47,
     "metadata": {},
     "output_type": "execute_result"
    }
   ],
   "source": [
    "merged_df.head()"
   ]
  },
  {
   "cell_type": "code",
   "execution_count": 49,
   "id": "88bc77f7-7310-4e9f-8b9c-757b0a304bb9",
   "metadata": {},
   "outputs": [
    {
     "data": {
      "text/plain": [
       "Index(['CustomerKey', 'Gender', 'Name', 'City', 'State Code', 'State_x',\n",
       "       'Zip Code', 'Country_x', 'Continent', 'Birthday', 'Order Number',\n",
       "       'Line Item', 'Order Date', 'Delivery Date', 'StoreKey', 'ProductKey',\n",
       "       'Quantity', 'Currency Code', 'Product Name', 'Brand', 'Color',\n",
       "       'Unit Cost USD', 'Unit Price USD', 'SubcategoryKey', 'Subcategory',\n",
       "       'CategoryKey', 'Category', 'Country_y', 'State_y', 'Square Meters',\n",
       "       'Open Date', 'Date', 'Currency', 'Exchange'],\n",
       "      dtype='object')"
      ]
     },
     "execution_count": 49,
     "metadata": {},
     "output_type": "execute_result"
    }
   ],
   "source": [
    "merged_df.columns"
   ]
  },
  {
   "cell_type": "code",
   "execution_count": 53,
   "id": "957a6280-9ef7-4a7d-9bf2-614b247e12bb",
   "metadata": {},
   "outputs": [],
   "source": [
    "pd.set_option(\"display.max_rows\", None)"
   ]
  },
  {
   "cell_type": "code",
   "execution_count": 59,
   "id": "bef41025-afbe-4f0a-af91-fc6c66ccbdb9",
   "metadata": {},
   "outputs": [],
   "source": [
    "merged_df.drop(columns=['State_y', 'Country_y', 'Date'], inplace=True)"
   ]
  },
  {
   "cell_type": "code",
   "execution_count": 70,
   "id": "9a2d3d38-449b-4f86-bc1b-b70c42b254d5",
   "metadata": {},
   "outputs": [],
   "source": [
    "merged_df.rename(columns={'State_x': 'State', 'Country_x': 'Country'}, inplace=True)"
   ]
  },
  {
   "cell_type": "code",
   "execution_count": 72,
   "id": "eb7699e7-3b55-49b3-b7fd-11b62b459ff3",
   "metadata": {},
   "outputs": [
    {
     "data": {
      "text/plain": [
       "Index(['CustomerKey', 'Gender', 'Name', 'City', 'State Code', 'State',\n",
       "       'Zip Code', 'Country', 'Continent', 'Birthday', 'Order Number',\n",
       "       'Line Item', 'Order Date', 'Delivery Date', 'StoreKey', 'ProductKey',\n",
       "       'Quantity', 'Currency Code', 'Product Name', 'Brand', 'Color',\n",
       "       'Unit Cost USD', 'Unit Price USD', 'SubcategoryKey', 'Subcategory',\n",
       "       'CategoryKey', 'Category', 'Square Meters', 'Open Date', 'Currency',\n",
       "       'Exchange'],\n",
       "      dtype='object')"
      ]
     },
     "execution_count": 72,
     "metadata": {},
     "output_type": "execute_result"
    }
   ],
   "source": [
    "merged_df.columns"
   ]
  },
  {
   "cell_type": "code",
   "execution_count": 74,
   "id": "4eabed4d-f5e6-4ab1-9acf-358dc71cde0a",
   "metadata": {},
   "outputs": [],
   "source": [
    "# Save the cleaned dataset to a new CSV file\n",
    "Output_path = \"D:\\Project\\DataSpark\\Data_Spark.csv\"\n",
    "merged_df.to_csv(Output_path, index=False)"
   ]
  },
  {
   "cell_type": "code",
   "execution_count": 1,
   "id": "ab2eb588-4477-4900-9a8d-d01fe6dced0b",
   "metadata": {},
   "outputs": [],
   "source": [
    "import pandas as pd"
   ]
  },
  {
   "cell_type": "code",
   "execution_count": 3,
   "id": "476d077e-0093-44da-81b0-3f70d5146fea",
   "metadata": {},
   "outputs": [],
   "source": [
    "df = pd.read_csv(\"D:\\Project\\DataSpark\\Data_Spark.csv\")"
   ]
  },
  {
   "cell_type": "code",
   "execution_count": 78,
   "id": "7134aca4-c0a0-4364-84d1-7f3e8adb298c",
   "metadata": {},
   "outputs": [
    {
     "name": "stdout",
     "output_type": "stream",
     "text": [
      "<class 'pandas.core.frame.DataFrame'>\n",
      "RangeIndex: 25370 entries, 0 to 25369\n",
      "Data columns (total 31 columns):\n",
      " #   Column          Non-Null Count  Dtype  \n",
      "---  ------          --------------  -----  \n",
      " 0   CustomerKey     25370 non-null  int64  \n",
      " 1   Gender          25370 non-null  object \n",
      " 2   Name            25370 non-null  object \n",
      " 3   City            25370 non-null  object \n",
      " 4   State Code      25370 non-null  object \n",
      " 5   State           25370 non-null  object \n",
      " 6   Zip Code        25370 non-null  object \n",
      " 7   Country         25370 non-null  object \n",
      " 8   Continent       25370 non-null  object \n",
      " 9   Birthday        25370 non-null  object \n",
      " 10  Order Number    25370 non-null  int64  \n",
      " 11  Line Item       25370 non-null  int64  \n",
      " 12  Order Date      25370 non-null  object \n",
      " 13  Delivery Date   25370 non-null  object \n",
      " 14  StoreKey        25370 non-null  int64  \n",
      " 15  ProductKey      25370 non-null  int64  \n",
      " 16  Quantity        25370 non-null  int64  \n",
      " 17  Currency Code   25370 non-null  object \n",
      " 18  Product Name    25370 non-null  object \n",
      " 19  Brand           25370 non-null  object \n",
      " 20  Color           25370 non-null  object \n",
      " 21  Unit Cost USD   25370 non-null  float64\n",
      " 22  Unit Price USD  25370 non-null  float64\n",
      " 23  SubcategoryKey  25370 non-null  int64  \n",
      " 24  Subcategory     25370 non-null  object \n",
      " 25  CategoryKey     25370 non-null  int64  \n",
      " 26  Category        25370 non-null  object \n",
      " 27  Square Meters   25370 non-null  float64\n",
      " 28  Open Date       25370 non-null  object \n",
      " 29  Currency        25370 non-null  object \n",
      " 30  Exchange        25370 non-null  float64\n",
      "dtypes: float64(4), int64(8), object(19)\n",
      "memory usage: 6.0+ MB\n"
     ]
    }
   ],
   "source": [
    "df.info()"
   ]
  },
  {
   "cell_type": "code",
   "execution_count": 5,
   "id": "5c1b761e-9eaf-47d0-add0-e2e79b1c9834",
   "metadata": {},
   "outputs": [
    {
     "data": {
      "text/plain": [
       "Index(['CustomerKey', 'Gender', 'Name', 'City', 'State Code', 'State',\n",
       "       'Zip Code', 'Country', 'Continent', 'Birthday', 'Order Number',\n",
       "       'Line Item', 'Order Date', 'Delivery Date', 'StoreKey', 'ProductKey',\n",
       "       'Quantity', 'Currency Code', 'Product Name', 'Brand', 'Color',\n",
       "       'Unit Cost USD', 'Unit Price USD', 'SubcategoryKey', 'Subcategory',\n",
       "       'CategoryKey', 'Category', 'Square Meters', 'Open Date', 'Currency',\n",
       "       'Exchange'],\n",
       "      dtype='object')"
      ]
     },
     "execution_count": 5,
     "metadata": {},
     "output_type": "execute_result"
    }
   ],
   "source": [
    "df.columns"
   ]
  },
  {
   "cell_type": "code",
   "execution_count": 13,
   "id": "6ecdd69c-7a62-4443-8e1e-cba76f62ceb8",
   "metadata": {},
   "outputs": [],
   "source": [
    "pd.set_option(\"display.max_columns\", None)"
   ]
  },
  {
   "cell_type": "code",
   "execution_count": 15,
   "id": "cd1788f2-fa53-4773-a551-3ab1d5463b49",
   "metadata": {},
   "outputs": [
    {
     "data": {
      "text/html": [
       "<div>\n",
       "<style scoped>\n",
       "    .dataframe tbody tr th:only-of-type {\n",
       "        vertical-align: middle;\n",
       "    }\n",
       "\n",
       "    .dataframe tbody tr th {\n",
       "        vertical-align: top;\n",
       "    }\n",
       "\n",
       "    .dataframe thead th {\n",
       "        text-align: right;\n",
       "    }\n",
       "</style>\n",
       "<table border=\"1\" class=\"dataframe\">\n",
       "  <thead>\n",
       "    <tr style=\"text-align: right;\">\n",
       "      <th></th>\n",
       "      <th>CustomerKey</th>\n",
       "      <th>Gender</th>\n",
       "      <th>Name</th>\n",
       "      <th>City</th>\n",
       "      <th>State Code</th>\n",
       "      <th>State</th>\n",
       "      <th>Zip Code</th>\n",
       "      <th>Country</th>\n",
       "      <th>Continent</th>\n",
       "      <th>Birthday</th>\n",
       "      <th>Order Number</th>\n",
       "      <th>Line Item</th>\n",
       "      <th>Order Date</th>\n",
       "      <th>Delivery Date</th>\n",
       "      <th>StoreKey</th>\n",
       "      <th>ProductKey</th>\n",
       "      <th>Quantity</th>\n",
       "      <th>Currency Code</th>\n",
       "      <th>Product Name</th>\n",
       "      <th>Brand</th>\n",
       "      <th>Color</th>\n",
       "      <th>Unit Cost USD</th>\n",
       "      <th>Unit Price USD</th>\n",
       "      <th>SubcategoryKey</th>\n",
       "      <th>Subcategory</th>\n",
       "      <th>CategoryKey</th>\n",
       "      <th>Category</th>\n",
       "      <th>Square Meters</th>\n",
       "      <th>Open Date</th>\n",
       "      <th>Currency</th>\n",
       "      <th>Exchange</th>\n",
       "    </tr>\n",
       "  </thead>\n",
       "  <tbody>\n",
       "    <tr>\n",
       "      <th>0</th>\n",
       "      <td>301</td>\n",
       "      <td>Female</td>\n",
       "      <td>Lilly Harding</td>\n",
       "      <td>WANDEARAH EAST</td>\n",
       "      <td>SA</td>\n",
       "      <td>South Australia</td>\n",
       "      <td>5523</td>\n",
       "      <td>Australia</td>\n",
       "      <td>Australia</td>\n",
       "      <td>03-07-1939</td>\n",
       "      <td>1776007</td>\n",
       "      <td>1</td>\n",
       "      <td>2019-11-11</td>\n",
       "      <td>2019-11-13</td>\n",
       "      <td>0</td>\n",
       "      <td>53</td>\n",
       "      <td>2</td>\n",
       "      <td>AUD</td>\n",
       "      <td>WWI 4GB Video Recording Pen X200 Black</td>\n",
       "      <td>Wide World Importers</td>\n",
       "      <td>Black</td>\n",
       "      <td>98.07</td>\n",
       "      <td>296.0</td>\n",
       "      <td>104</td>\n",
       "      <td>Recording Pen</td>\n",
       "      <td>1</td>\n",
       "      <td>Audio</td>\n",
       "      <td>0.0</td>\n",
       "      <td>01-01-2010</td>\n",
       "      <td>USD</td>\n",
       "      <td>1.0</td>\n",
       "    </tr>\n",
       "  </tbody>\n",
       "</table>\n",
       "</div>"
      ],
      "text/plain": [
       "   CustomerKey  Gender           Name            City State Code  \\\n",
       "0          301  Female  Lilly Harding  WANDEARAH EAST         SA   \n",
       "\n",
       "             State Zip Code    Country  Continent    Birthday  Order Number  \\\n",
       "0  South Australia     5523  Australia  Australia  03-07-1939       1776007   \n",
       "\n",
       "   Line Item  Order Date Delivery Date  StoreKey  ProductKey  Quantity  \\\n",
       "0          1  2019-11-11    2019-11-13         0          53         2   \n",
       "\n",
       "  Currency Code                            Product Name                 Brand  \\\n",
       "0           AUD  WWI 4GB Video Recording Pen X200 Black  Wide World Importers   \n",
       "\n",
       "   Color  Unit Cost USD  Unit Price USD  SubcategoryKey    Subcategory  \\\n",
       "0  Black          98.07           296.0             104  Recording Pen   \n",
       "\n",
       "   CategoryKey Category  Square Meters   Open Date Currency  Exchange  \n",
       "0            1    Audio            0.0  01-01-2010      USD       1.0  "
      ]
     },
     "execution_count": 15,
     "metadata": {},
     "output_type": "execute_result"
    }
   ],
   "source": [
    "df.head(1)"
   ]
  },
  {
   "cell_type": "code",
   "execution_count": 80,
   "id": "09ce4ec0-778f-4c56-a1c1-f9c3b7a81fab",
   "metadata": {},
   "outputs": [],
   "source": [
    "import pymysql\n",
    "import pandas as pd\n",
    "\n",
    "# Connect to MySQL\n",
    "myconnection = pymysql.connect(host='127.0.0.1', user='root', passwd='password', database=\"project\")\n",
    "\n",
    "# Load CSV data\n",
    "df = pd.read_csv(\"D:\\Project\\DataSpark\\Data_Spark.csv\")\n",
    "df = df.dropna()  # Drop null values\n",
    "\n",
    "# Replace data types from pandas to MySQL\n",
    "a = \",\".join(f\"`{i}` {j}\" for i, j in zip(df.columns, df.dtypes)).replace(\"float64\", \"FLOAT\").replace(\"object\", \"TEXT\").replace(\"int64\", \"INT\")\n",
    "# Use a valid table name\n",
    "table_name = \"Data Spark\"\n",
    "\n",
    "# Create the table\n",
    "create_table_query = f\"CREATE TABLE `{table_name}` ({a})\"\n",
    "with myconnection.cursor() as cursor:\n",
    "    cursor.execute(create_table_query)\n",
    "\n",
    "# Insert data into the table\n",
    "for i in range(len(df)):\n",
    "    insert_query = f\"INSERT INTO `{table_name}` VALUES {tuple(df.iloc[i])}\"\n",
    "    with myconnection.cursor() as cursor:\n",
    "        cursor.execute(insert_query)\n",
    "    myconnection.commit()\n",
    "\n",
    "myconnection.close()\n"
   ]
  },
  {
   "cell_type": "code",
   "execution_count": 29,
   "id": "23ad717c-946b-46b4-a268-80ead01c8183",
   "metadata": {},
   "outputs": [
    {
     "name": "stdout",
     "output_type": "stream",
     "text": [
      "<class 'pandas.core.frame.DataFrame'>\n",
      "RangeIndex: 25370 entries, 0 to 25369\n",
      "Data columns (total 31 columns):\n",
      " #   Column          Non-Null Count  Dtype  \n",
      "---  ------          --------------  -----  \n",
      " 0   CustomerKey     25370 non-null  int64  \n",
      " 1   Gender          25370 non-null  object \n",
      " 2   Name            25370 non-null  object \n",
      " 3   City            25370 non-null  object \n",
      " 4   State Code      25370 non-null  object \n",
      " 5   State           25370 non-null  object \n",
      " 6   Zip Code        25370 non-null  object \n",
      " 7   Country         25370 non-null  object \n",
      " 8   Continent       25370 non-null  object \n",
      " 9   Birthday        25370 non-null  object \n",
      " 10  Order Number    25370 non-null  int64  \n",
      " 11  Line Item       25370 non-null  int64  \n",
      " 12  Order Date      25370 non-null  object \n",
      " 13  Delivery Date   25370 non-null  object \n",
      " 14  StoreKey        25370 non-null  int64  \n",
      " 15  ProductKey      25370 non-null  int64  \n",
      " 16  Quantity        25370 non-null  int64  \n",
      " 17  Currency Code   25370 non-null  object \n",
      " 18  Product Name    25370 non-null  object \n",
      " 19  Brand           25370 non-null  object \n",
      " 20  Color           25370 non-null  object \n",
      " 21  Unit Cost USD   25370 non-null  float64\n",
      " 22  Unit Price USD  25370 non-null  float64\n",
      " 23  SubcategoryKey  25370 non-null  int64  \n",
      " 24  Subcategory     25370 non-null  object \n",
      " 25  CategoryKey     25370 non-null  int64  \n",
      " 26  Category        25370 non-null  object \n",
      " 27  Square Meters   25370 non-null  float64\n",
      " 28  Open Date       25370 non-null  object \n",
      " 29  Currency        25370 non-null  object \n",
      " 30  Exchange        25370 non-null  float64\n",
      "dtypes: float64(4), int64(8), object(19)\n",
      "memory usage: 6.0+ MB\n"
     ]
    }
   ],
   "source": [
    "df.info()"
   ]
  }
 ],
 "metadata": {
  "kernelspec": {
   "display_name": "Python 3 (ipykernel)",
   "language": "python",
   "name": "python3"
  },
  "language_info": {
   "codemirror_mode": {
    "name": "ipython",
    "version": 3
   },
   "file_extension": ".py",
   "mimetype": "text/x-python",
   "name": "python",
   "nbconvert_exporter": "python",
   "pygments_lexer": "ipython3",
   "version": "3.11.7"
  }
 },
 "nbformat": 4,
 "nbformat_minor": 5
}
